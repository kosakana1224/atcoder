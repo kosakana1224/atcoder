{
  "cells": [
    {
      "cell_type": "code",
      "execution_count": null,
      "metadata": {
        "id": "4RPQnnWXgxg6"
      },
      "outputs": [
        {
          "ename": "",
          "evalue": "",
          "output_type": "error",
          "traceback": [
            "\u001b[1;31m'Python 3.8.2 64-bit' を使用した実行中のセルには ipykernel パッケージが必要です。\n",
            "\u001b[1;31m次のコマンドを実行して、'ipykernel' を Python 環境にインストールします。\n",
            "\u001b[1;31mコマンド: '/usr/local/bin/python -m pip install ipykernel -U --user --force-reinstall'"
          ]
        }
      ],
      "source": [
        "import io\n",
        "import sys\n",
        "#sys.setrecursionlimit(10**7)\n",
        "from collections import deque,defaultdict\n",
        "from heapq import heappush,heappop \n",
        "from itertools import product,combinations,accumulate\n",
        "from bisect import bisect_right,bisect_left \n",
        "def input(): return sys.stdin.readline().strip()\n",
        "def INT(): return int(input())\n",
        "def MAP(): return map(int,input().split())\n",
        "def LIST(): return list(map(int,input().split()))\n",
        "INF = float('inf')\n",
        "import math\n",
        "import random\n",
        "dirc = [(0,1),(0,-1),(1,0),(-1,0)]\n",
        "dirc2 = [(0,1),(0,-1),(1,0),(-1,0),(-1,-1),(-1,1),(1,-1),(1,1)]\n",
        "mod = 10**9+7\n",
        "mod2 = 998244353"
      ]
    },
    {
      "cell_type": "markdown",
      "metadata": {
        "id": "Fbg2M84K__-g"
      },
      "source": [
        "## アルゴリズム編"
      ]
    },
    {
      "cell_type": "markdown",
      "metadata": {
        "id": "SOsAIRQx6g5D"
      },
      "source": [
        "### DP"
      ]
    },
    {
      "cell_type": "markdown",
      "metadata": {
        "id": "WwaIhTj978rS"
      },
      "source": [
        "#### 基本的なDP"
      ]
    },
    {
      "cell_type": "markdown",
      "metadata": {
        "id": "ii8Csa4B7-i7"
      },
      "source": [
        "<DPで求めるものパターン>\n",
        "- 最小値・最大値\n",
        "- 数え上げ\n",
        "\n",
        "<DP問題を解く流れ>\n",
        "1. DPテーブルの定義を考える\n",
        "   - 問題を解くにはどのような情報が必要かを考えることが重要\n",
        "   - テーブルのサイズは制約から見えてくるので、欲しい条件から考えるのも一つの手\n",
        "   - DPテーブルは大きめにとることを強く勧める\n",
        "   - 初期値及び添字には注意する(初期条件が間違うと全てが終わる)\n",
        "   - dpの長さが小さいとき、初期値の部分が配列のサイズを超える可能性があるので注意\n",
        "   - 基本的には1-indexにした方が解きやすいかも\n",
        "2. 漸化式(遷移)を考える\n",
        "   - 遷移には色々なパターンがあるので問題に応じてどのようにすれば答えを求めることができるかを考える\n",
        "   - 条件を満たす場合(例えば選択した場合)とそうでない場合のそれぞれ遷移を考える必要がある\n",
        "3. 状態、計算量を減らせる部分があったら減らす\n",
        "   - pythonだと計算量がc++よりもかなりかかってしまうため、基本的にはpypyで提出する\n",
        "   - 工夫できる部分はできるだけ工夫する\n",
        "   - gridの座標を二次元ではなく、一次元で管理するなど\n",
        "   - 遷移をよく見ると区間和になっているDPは遷移→累積和を求めておくと高速化できる(貰うDPで考えると楽)\n",
        "\n",
        "<DPを解く上で注意すべきこと>\n",
        "- なにか規則性を見つけて「正しい選び方の法則」のようなものを見つけようとしがち\n",
        "- すべて探索することが大切、単純に探索すると計算時間が間に合わない場合は、どのように計算結果をまとめていくかを考えるとよい\n",
        "- コーナーケースの見落としに注意する(自分が予期していない場合で見落としている可能性がある)"
      ]
    },
    {
      "cell_type": "markdown",
      "metadata": {
        "id": "untiOlO2BdhH"
      },
      "source": [
        "#### グラフ×DP"
      ]
    },
    {
      "cell_type": "markdown",
      "metadata": {
        "id": "GE6p1oSSBBd-"
      },
      "source": [
        "#### ダブリング"
      ]
    },
    {
      "cell_type": "markdown",
      "metadata": {
        "id": "wraMX1wtBFN7"
      },
      "source": [
        "#### 区間DP"
      ]
    },
    {
      "cell_type": "markdown",
      "metadata": {
        "id": "_6W-4rbJBPBP"
      },
      "source": [
        "#### LIS"
      ]
    },
    {
      "cell_type": "markdown",
      "metadata": {
        "id": "IMTn1xb5BQ0G"
      },
      "source": [
        "#### BITDP"
      ]
    },
    {
      "cell_type": "markdown",
      "metadata": {
        "id": "nJLZ014c6iW9"
      },
      "source": [
        "### グラフ問題"
      ]
    },
    {
      "cell_type": "markdown",
      "metadata": {
        "id": "_gcyMs_SCChS"
      },
      "source": [
        "<グラフ問題のアプローチ>\n",
        "- BFS : 最小手が関係するとき\n",
        "- DFS : その他の問題においてO(V+E)で解けるとき\n",
        "- 特に部分木に関する問題では、BFSでは解けない\n",
        "\n",
        "<計算量のお話>\n",
        "- ダイクストラ:優先度付きキューO(V+ElogV)\n",
        "- 幅優先探索:キュー使用 O(V+E)\n",
        "- 01-BFS:両端キュー O(V+E)\n",
        "\n",
        "<用語まとめ>\n",
        "1. 木:平路を持たないような連結なグラフ\n",
        "   - グラフの点の数がNの時辺の数はN-1\n",
        "   - 隣接していない任意の２点を加えると閉路が一つだけできる\n",
        "   - グラフの辺を一本でも消すと連結ではなくなる\n",
        "\n",
        "2. 森:閉路を持たないようなグラフのこと\n",
        "  - イメージは木の集まり(なお木単体も森である)\n",
        "\n",
        "3. 根付き木\n",
        "  - 木に対して、特定の1つの頂点を特別扱いして根とよび、根をもつ木のことを根付き木と呼ぶ。\n",
        "  - 根をもたない木に対して、そのことを強調するときは根なし木と呼ぶ。\n",
        "\n",
        "4. 部分木\n",
        "  - 根付き木のある頂点viを根とする部分木はvを根とした木\n",
        "  - 頂点viも当然その中に含まれるのに注意!(逆になぜ含まれないと思っていたか謎)"
      ]
    },
    {
      "cell_type": "markdown",
      "metadata": {
        "id": "piA9bjwDBYuu"
      },
      "source": [
        "#### BFS"
      ]
    },
    {
      "cell_type": "markdown",
      "metadata": {
        "id": "jFyCMj5nI9nt"
      },
      "source": [
        "＜TIPS＞\n",
        "\n",
        "1. グラフを逆向きに貼って考える\n",
        "  - マス(a,b)からマス(r,c)に動かせるか全てのマスでbfs→TLE\n",
        "  - グラフの全ての辺を逆向きにして(r,c)からBFSでたどり着けるか判定すればO(HW)で解ける\n",
        "\n",
        "2. 多点始点幅優先探索\n",
        "  - 一点始点の幅優先探索と同じ用に、始点すべてをqueにappendしてよい\n",
        "\n"
      ]
    },
    {
      "cell_type": "markdown",
      "metadata": {
        "id": "1LE1DC18FY50"
      },
      "source": [
        "##### 最短経路への移動回数\n"
      ]
    },
    {
      "cell_type": "markdown",
      "metadata": {
        "id": "VgOIQOYRGTYr"
      },
      "source": [
        "1. 移動できる都市が未到達の場合 \n",
        "   - cnt[nxt] = cnt[now]\n",
        "2. 移動できる都市が到達済みの場合 最短経路の値が同じであれば\n",
        "\n",
        "   - (dist[nxt]==dist[now]+1),cnt[nxt] += cnt[now]\n",
        "(遷移前の数を足し合わせることで最短経路の数を更新)"
      ]
    },
    {
      "cell_type": "code",
      "execution_count": null,
      "metadata": {
        "id": "qboLjGNxGgmT"
      },
      "outputs": [],
      "source": [
        "N,M = MAP()\n",
        "G = [[] for _ in range(N)]\n",
        "for _ in range(M):\n",
        "    a,b = MAP()\n",
        "    a,b = a-1,b-1\n",
        "    G[a].append(b)\n",
        "    G[b].append(a)\n",
        "q = deque([0])\n",
        "dist = [-1]*N\n",
        "dist[0] = 0\n",
        "dp = [0]*N\n",
        "dp[0] = 1\n",
        "while q:\n",
        "    now = q.popleft()\n",
        "    for nxt in G[now]:\n",
        "        if dist[nxt]==-1:\n",
        "            dist[nxt] = dist[now]+1\n",
        "            q.append(nxt)\n",
        "            dp[nxt] = dp[now]\n",
        "            dp[nxt] %= mod\n",
        "        else:\n",
        "            if dist[nxt]==dist[now]+1:\n",
        "                dp[nxt] += dp[now]    \n",
        "print(dp[N-1]%mod)"
      ]
    },
    {
      "cell_type": "markdown",
      "metadata": {
        "id": "lPPwjXhMH6Nv"
      },
      "source": [
        "##### BFSの経路復元"
      ]
    },
    {
      "cell_type": "markdown",
      "metadata": {
        "id": "FZYaSr7PIkTR"
      },
      "source": [
        "- 迷路（壁情報が与えられたver）における経路復元\n",
        "- 壁情報の扱いに要注意！\n",
        "- 幅優先探索の経路復元は直前の移動方向をx,yそれぞれ記憶する\n",
        "- 復元する時は、ゴールから初めて、x,y = -1,-1になるまでwhileループでスタート地点まで逆行する"
      ]
    },
    {
      "cell_type": "code",
      "execution_count": null,
      "metadata": {
        "id": "-XcImVtEH8Ml"
      },
      "outputs": [],
      "source": [
        "si,sj,ti,tj,p = map(float,input().split())\n",
        "si,sj,ti,tj = int(si),int(sj),int(ti),int(tj)\n",
        "h = [input() for _ in range(20)]\n",
        "v = [input() for _ in range(19)]\n",
        "ans = ''\n",
        "dist = [[-1]*20 for  _ in range(20)]\n",
        "dist[si][sj]=0\n",
        "q = deque()\n",
        "q.append((si,sj))\n",
        "prev_x = [[-1]*20 for _ in range(20)]\n",
        "prev_y = [[-1]*20 for _ in range(20)]\n",
        "while q:\n",
        "    y,x = q.popleft()\n",
        "    for dx,dy in dirc:\n",
        "        ny,nx = y+dy,x+dx\n",
        "        if 0<=ny<20 and 0<=nx<19:\n",
        "            if h[ny][nx-1]=='1' and dx==1 and dy==0:\n",
        "                continue\n",
        "        if 0<=ny<20 and 0<nx<19:\n",
        "            if h[ny][nx]=='1' and dx==-1 and dy==0:\n",
        "                continue\n",
        "        if 0<=ny<19 and 0<=nx<20:\n",
        "            if v[ny][nx]=='1' and dx==0 and dy==-1:\n",
        "                continue\n",
        "        if 0<ny<19 and 0<=nx<20:\n",
        "            if v[ny-1][nx]=='1' and dx==0 and dy==1:\n",
        "                continue\n",
        "        if not (0<=ny<20 and 0<=nx<20):\n",
        "            continue\n",
        "        if dist[ny][nx]==-1:    \n",
        "            q.append((ny,nx))\n",
        "            dist[ny][nx] = dist[y][x] + 1\n",
        "            #直前のx方向、y方向の移動場所を記録しておく\n",
        "            prev_x[ny][nx] = x\n",
        "            prev_y[ny][nx] = y\n",
        "score = dist[tj][ti]\n",
        "x = tj\n",
        "y = ti\n",
        "field = [['.']*20 for _ in range(20)]\n",
        "while x!=-1 and y!=-1:\n",
        "    field[y][x]='o'\n",
        "    px = prev_x[y][x]\n",
        "    py = prev_y[y][x]\n",
        "    x = px\n",
        "    y = py\n",
        "#経路復元\n",
        "for i in range(20):\n",
        "    for j in range(20):\n",
        "        print(field[i][j],end='')\n",
        "    print()\n"
      ]
    },
    {
      "cell_type": "markdown",
      "metadata": {
        "id": "SpkR_dnSI4aX"
      },
      "source": [
        "##### 01BFS\n"
      ]
    },
    {
      "cell_type": "markdown",
      "metadata": {
        "id": "y-Ptkr13KH6R"
      },
      "source": [
        "- 辺の長さが0または1である有向グラフにおいて、全頂点への最短経路の長さを効率時間で求める事ができる\n",
        "\n",
        "<アルゴリズムにおけるポイント>\n",
        "- 暫定最短距離が最も小さい点を選んでそこから伸びる辺で他の頂点の暫定最短距離\n",
        "を更新する\n",
        "- 辺の重みが0or1の2つしかない場合、BFSのdequeにおいて0に辺を用いた場合は先頭に、1の辺を用いた場合は末尾に加えることで処理することが出来る\n",
        "- (この処理により、ある値が前側に、それより1大きいコストが後ろ側に固まっている状態を\n",
        "保つことが出来る)\n",
        "- 計算量をダイクストラO(V+ElogV)からO(V+E)に落とせる\n",
        "- ノーコストの手段で移動する、何らかのコストや回数制限のある手段で移動の2通りの移動方法が与えられているような問題で帰着できる可能性がある\n",
        "\n",
        "<方向転換の最小化>\n",
        "\n",
        "- 現在向いている方向に1マス進む(コスト0)\n",
        "- 向いている方向を変える(コスト1)\n",
        "- スタート→ゴールを最小にする\n",
        "\n",
        "1. 解法1(芝刈りBFS解):\n",
        "  - 今いる地点から進行方向4箇所について、壁に突き当たるor現時点よりもコストが同じ以上\n",
        "のところについて,同じコストでdistを更新する。\n",
        " - その後次にqueの先頭に入っている部分について\n",
        "また同じ操作をする\n",
        "\n",
        "2. 解法2(拡張BFS):\n",
        "  - 辺の頂点に関する状態を拡張して考える.\n",
        "  - dist[i][j][0-3]:マスi,jでそれぞれの方向に向く状態までの方向転換の最小回数\n",
        "  - (nowx,nowy,直前の移動方向)の3つの組を一つの頂点として01dfs\n",
        "  - 遷移は今向いている向きにコスト0で一回移動\n",
        "現在のマスから移動せずにコスト1で向いている向きを変更の2種類\n",
        "  - コスト0の遷移はappendleft,コスト1の遷移はappendする\n",
        "  - 計算量O(N^2)定数倍重め、ダイクストラだとO(N^2*log(N))"
      ]
    },
    {
      "cell_type": "markdown",
      "metadata": {
        "id": "K-cWDca2Jxqm"
      },
      "source": [
        "##### 拡張BFS"
      ]
    },
    {
      "cell_type": "markdown",
      "metadata": {
        "id": "FNIkRJOyJzfZ"
      },
      "source": [
        "- 移動先や頂点の情報にさらなる成約がある場合に頂点の情報を追加する"
      ]
    },
    {
      "cell_type": "markdown",
      "metadata": {
        "id": "iuHK49K1Bahp"
      },
      "source": [
        "#### DFS"
      ]
    },
    {
      "cell_type": "markdown",
      "metadata": {
        "id": "FINNnZkvHNiz"
      },
      "source": [
        "##### オイラーツアー(DFSのタイミング)\n",
        "1. オイラーツアーとは\n",
        "  - 根付きを根からDFSし根に戻ってくる行きと戻りの経路を1次元のテーブルに記録したもの\n",
        "\n",
        "2. DFSのタイミング\n",
        "```\n",
        "def dfs(v,pre):\n",
        "    #頂点が初めて探索されるタイミング(行きがけ)(上から下に行くタイミング)\n",
        "    for u in G[v]:\n",
        "        if u!=pre:\n",
        "            dfs(u,v)\n",
        "            #子の一つが探索終わったタイミング\n",
        "    #頂点が探索終えたタイミング(帰りがけ) (下から上に行くタイミング)\n",
        "```\n",
        "\n"
      ]
    },
    {
      "cell_type": "markdown",
      "metadata": {
        "id": "sXp5i9rcBbnA"
      },
      "source": [
        "#### LCA"
      ]
    },
    {
      "cell_type": "markdown",
      "metadata": {
        "id": "OXhBjkUfBoAq"
      },
      "source": [
        "#### ダイクストラ法"
      ]
    },
    {
      "cell_type": "markdown",
      "metadata": {
        "id": "JfTWx_4kBqmZ"
      },
      "source": [
        "#### トポロジカルソート"
      ]
    },
    {
      "cell_type": "markdown",
      "metadata": {
        "id": "GLZwsg70BsWi"
      },
      "source": [
        "#### ワーシャルフロイド法"
      ]
    },
    {
      "cell_type": "markdown",
      "metadata": {
        "id": "LaposK04Bwum"
      },
      "source": [
        "#### SSC"
      ]
    },
    {
      "cell_type": "markdown",
      "metadata": {
        "id": "68P0uXBrByz1"
      },
      "source": [
        "#### 最小全域木"
      ]
    },
    {
      "cell_type": "markdown",
      "metadata": {
        "id": "PvymX1wzB1jH"
      },
      "source": [
        "#### 最大流"
      ]
    },
    {
      "cell_type": "markdown",
      "metadata": {
        "id": "p3b4a0Wj6kKb"
      },
      "source": [
        "### 区間問題"
      ]
    },
    {
      "cell_type": "markdown",
      "metadata": {
        "id": "z-NdLAUC6mxd"
      },
      "source": [
        "### 探索"
      ]
    },
    {
      "cell_type": "markdown",
      "metadata": {
        "id": "GnFCoRcR7vhy"
      },
      "source": [
        "### 貪欲法"
      ]
    },
    {
      "cell_type": "markdown",
      "metadata": {
        "id": "qr5n7JDmAJtd"
      },
      "source": [
        "## データ構造編"
      ]
    },
    {
      "cell_type": "markdown",
      "metadata": {
        "id": "3C0OytsViWVG"
      },
      "source": [
        "典型TIPSについて\n",
        "- 複数データ構造で管理する(heapqとdeque,list二本,unionfindとsortedMultisetなど)\n",
        "- 必要なデータをデータでもつ(多次元データになる)\n",
        "- データを工夫して多次元でもつ(連想配列 in リスト,生徒番号も同時に管理する、クエリ先読みのためにクエリ番号も同時に管理するなど)\n",
        "\n",
        "\n"
      ]
    },
    {
      "cell_type": "markdown",
      "metadata": {
        "id": "mqHQADFufw3j"
      },
      "source": [
        "### deque"
      ]
    },
    {
      "cell_type": "markdown",
      "metadata": {
        "id": "a0lNWqOLgYLS"
      },
      "source": [
        "#### dequeの宣言について\n",
        "- Sが文字列のとき\n",
        "1. que = deque(S)\n",
        "2. que = deque([S])\n",
        "でqueの中身が異なるので注意。一文字ずつdequeに格納したい場合は前者"
      ]
    },
    {
      "cell_type": "code",
      "execution_count": 4,
      "metadata": {
        "colab": {
          "base_uri": "https://localhost:8080/"
        },
        "id": "iaF6hzg3gX1i",
        "outputId": "0629eef4-1720-4e34-a3d1-e6f0b181cd7a"
      },
      "outputs": [
        {
          "name": "stdout",
          "output_type": "stream",
          "text": [
            "deque(['h', 'e', 'l', 'l', 'o'])\n",
            "deque(['hello'])\n"
          ]
        }
      ],
      "source": [
        "S = \"hello\"\n",
        "que1 = deque(S)\n",
        "que2 = deque([S])\n",
        "print(que1)\n",
        "print(que2)"
      ]
    },
    {
      "cell_type": "markdown",
      "metadata": {
        "id": "QHVjS2WkhVQv"
      },
      "source": [
        "### heapq"
      ]
    },
    {
      "cell_type": "markdown",
      "metadata": {
        "id": "f05TtiE4htzo"
      },
      "source": [
        "* ヒープが存在するかどうかは、if hq:で\n",
        "* heapqは自作クラスを使うと楽。"
      ]
    },
    {
      "cell_type": "code",
      "execution_count": null,
      "metadata": {
        "id": "6r5IybM3hXfI"
      },
      "outputs": [],
      "source": [
        "import heapq\n",
        "class Heapq:\n",
        "    #最大値を取り出したいときは、desc=Trueにする\n",
        "    def __init__(self, arr, desc=False):\n",
        "        if desc:\n",
        "            arr = [-a for a in arr]\n",
        "        self.sign = -1 if desc else 1\n",
        "        self.hq = arr\n",
        "        heapq.heapify(self.hq)\n",
        "    #最大or最小を取り出す\n",
        "    def pop(self):\n",
        "        return heapq.heappop(self.hq) * self.sign\n",
        "    #値を追加する\n",
        "    def push(self, a):\n",
        "        heapq.heappush(self.hq, a * self.sign)\n",
        "    #最大or最小を参照するだけ(なくならない)\n",
        "    def top(self):\n",
        "        return self.hq[0] * self.sign"
      ]
    },
    {
      "cell_type": "markdown",
      "metadata": {
        "id": "uSmIRqxzioju"
      },
      "source": [
        "### set"
      ]
    },
    {
      "cell_type": "markdown",
      "metadata": {
        "id": "1RO1E9V7irVb"
      },
      "source": [
        "- **存在判定はsetだとO(1)でできる**\n",
        "- 集合のandは&で行う\n",
        "- グリッドの座標をsetで管理するのは典型"
      ]
    },
    {
      "cell_type": "markdown",
      "metadata": {
        "id": "2bRz7aWmjpDJ"
      },
      "source": [
        "### UnionFind"
      ]
    },
    {
      "cell_type": "markdown",
      "metadata": {
        "id": "_RLThELcjrGw"
      },
      "source": [
        "- グループを管理するのに用いる\n",
        "- 基本処理の計算量は約O(1)　詳しくはhttps://algo-method.com/descriptions/133で\n",
        "- UnionFindはグループを生成するのは得意だが、壊すのは苦手\n",
        "- 壊していく問題では逆から処理したり、クエリを先読みしてグラフを生成する順番にソートしてから処理するTIPSがある\n",
        "- グループ1とグループ2両方で連結している個数について、dict[(uf1.root(i),uf2.root(i)]の連想配列で同じペアがいくつ出てくるかを管理することで高速で解ける\n",
        "- xに合流してくる生徒のうち、クラスyに属している生徒の数をdp[uf.root(a)][c]:のように存在するクラスのみをcで連想配列のように管理する。併合の際に、小さい方から大きい方へマージすることで計算量を改善することができる\n",
        "- 問題をグラフ問題に置き換えることで解くことができるものもある(例ABC206D)\n",
        "- グラフの連結成分数は初期値はすべてつながっていない状態、つまり**N**であることに注意!\n",
        "- unionする頂点番号を工夫する問題(ABC264E↓)\n",
        "- 求めたいのは電気が通っている都市の数。発電所の個数は関係ない、つまり、発電所は複数あるが発電所を一つとしてカウントできる。\n",
        "- N以降の頂点番号は、発電所をN一つにまとめることで、uf.size(N)で電気がつながっている\n",
        "都市(+発電所一つ)の個数を知ることができる!\n",
        "- クエリでグラフを連結する時に隣接リストとは別にUnionFindを用意し、同じ連結成分に属している時はその辺は追加しないようにする処理を追加することで計算量を落とすTIPSがある\n",
        "- グリッド上の連結は移動方向に移動できる点があったら、二次元座標を一次元座標に変換して元の点と移動後の点を連結すれば良い\n",
        "\n",
        "\n",
        "\n"
      ]
    },
    {
      "cell_type": "code",
      "execution_count": null,
      "metadata": {
        "id": "jIS3PxfZlCLD"
      },
      "outputs": [],
      "source": [
        "from typing import List\n",
        "class UnionFind:\n",
        "    \"\"\"0-indexed\"\"\"\n",
        "    def __init__(self, n):\n",
        "        self.n = n\n",
        "        self.parent = [-1] * n\n",
        "        self.__group_count = n  # 辺がないとき、連結成分はn個あります\n",
        "\n",
        "    def unite(self, x, y):\n",
        "        \"\"\"xとyをマージ\"\"\"\n",
        "        x = self.root(x)\n",
        "        y = self.root(y)\n",
        "        if x == y:\n",
        "            return 0\n",
        "        self.__group_count -= 1  # 木と木が合体するので、連結成分数が1減ります\n",
        "        if self.parent[x] > self.parent[y]:\n",
        "            x, y = y, x\n",
        "        self.parent[x] += self.parent[y]\n",
        "        self.parent[y] = x\n",
        "        return self.parent[x]\n",
        "\n",
        "    def is_same(self, x, y):\n",
        "        \"\"\"xとyが同じ連結成分か判定\"\"\"\n",
        "        return self.root(x) == self.root(y)\n",
        "\n",
        "    def root(self, x):\n",
        "        \"\"\"xの根を取得\"\"\"\n",
        "        if self.parent[x] < 0:\n",
        "            return x\n",
        "        else:\n",
        "            self.parent[x] = self.root(self.parent[x])\n",
        "            return self.parent[x]\n",
        "\n",
        "    def size(self, x):\n",
        "        \"\"\"xが属する連結成分のサイズを取得\"\"\"\n",
        "        return -self.parent[self.root(x)]\n",
        "\n",
        "    def all_sizes(self) -> List[int]:\n",
        "        \"\"\"全連結成分のサイズのリストを取得 O(N)\"\"\"\n",
        "        sizes = []\n",
        "        for i in range(self.n):\n",
        "            size = self.parent[i]\n",
        "            if size < 0:\n",
        "                sizes.append(-size)\n",
        "        return sizes\n",
        "\n",
        "    def groups(self) -> List[List[int]]:\n",
        "        \"\"\"全連結成分の内容のリストを取得 O(N・α(N))\"\"\"\n",
        "        groups = dict()\n",
        "        for i in range(self.n):\n",
        "            p = self.root(i)\n",
        "            if not groups.get(p):\n",
        "                groups[p] = []\n",
        "            groups[p].append(i)\n",
        "        return list(groups.values())\n",
        "\n",
        "    def group_count(self) -> int:\n",
        "        \"\"\"連結成分の数を取得 O(1)\"\"\"\n",
        "        return self.__group_count  "
      ]
    },
    {
      "cell_type": "markdown",
      "metadata": {
        "id": "22uHmFpqlVyw"
      },
      "source": [
        "#### 橋の本数\n",
        "\n",
        "橋:その辺を取り除いた時にグラフ全体が非連結になるような辺のこと\n",
        "\n",
        "1. 全ての辺 e1=(u1,v1) に対して以下を実行する\n",
        " * e1 以外の全ての辺 e2=(u2,v2) について以下を実行する\n",
        " * u2 と v2 を Union-Find Tree 上の同じ集合にまとめる (unite)\n",
        "2. u1 と v1 が同じ集合になければ、e1 を除いたグラフは非連結で、e1 は橋\n",
        "\n",
        "橋についてわかりやすく\n",
        "- 全ての辺について、それぞれの辺以外で連結したときにグループの個数が複数（＝グラフ全体が非連結）ならばその辺は橋になる"
      ]
    },
    {
      "cell_type": "markdown",
      "metadata": {
        "id": "r-8aBmcXlx7_"
      },
      "source": [
        "![image.png](data:image/png;base64,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)"
      ]
    },
    {
      "cell_type": "markdown",
      "metadata": {
        "id": "mgU0NmvpsNxv"
      },
      "source": [
        "#### 無向グラフの閉路\n",
        "\n",
        "*無向グラフの閉路→UnionFindでroot一致したら閉路\n",
        "*有向グラフの閉路→トポロジカルソートができないとき閉路\n"
      ]
    },
    {
      "cell_type": "code",
      "execution_count": null,
      "metadata": {
        "id": "leiNvgN0l4az"
      },
      "outputs": [],
      "source": []
    },
    {
      "cell_type": "markdown",
      "metadata": {
        "id": "IT271xVps-QF"
      },
      "source": [
        "### セグメントツリー\n"
      ]
    },
    {
      "cell_type": "markdown",
      "metadata": {
        "id": "kJbDrGAetHJm"
      },
      "source": [
        "<ポイント>\n",
        "- 区間に関する処理はセグメント木で可能だが、区間に対する更新を行うときは\n",
        "遅延セグメント木を使う必要がある。\n",
        "\n",
        "<遅延セグメント木>\n",
        "- セグメント木：区間上の値を更新する、任意の区間上の最小値や合計値などを取得する\n",
        "- 遅延セグメント木：区間更新、区間加算をするときは普通のセグメント木だと時間がかかってしまうため、遅延セグメント木を用いると良い。"
      ]
    },
    {
      "cell_type": "code",
      "execution_count": null,
      "metadata": {
        "id": "8os8F_WxtAYB"
      },
      "outputs": [],
      "source": [
        "#普通のセグ木\n",
        "def segfunc(x,y):\n",
        "    '''\n",
        "    区間の\n",
        "    和→x+y\n",
        "    差→x-y\n",
        "    最小値→min(x,y)\n",
        "    xor→x^y\n",
        "    or→x|y\n",
        "    最大公約数→math.gcd(x,y)\n",
        "    '''\n",
        "    return math.gcd(x,y)\n",
        "\n",
        "class SegTree:\n",
        "    '''\n",
        "    セグメントツリーの構築は\n",
        "    seg = SegTree(元のリスト、単位元、segfunc)\n",
        "    単位元：どの数に対して演算を行っても元から変わることがない数\n",
        "    和:0\n",
        "    積:1\n",
        "    or:0\n",
        "    xor:0\n",
        "    最大公約数:0\n",
        "    最小値：大きな数 inf\n",
        "    最大値：小さな数 -inf\n",
        "    select(インデックス番号):値の参照 O(1)\n",
        "    update(インデックス番号、値):値の更新O(logN)\n",
        "    query(左端インデックス番号、右端インデックス番号):指定区間についての演算結果を返すO(logN)\n",
        "    '''\n",
        "    def __init__(self,x_list,init,segfunc):\n",
        "        self.init=init\n",
        "        self.segfunc=segfunc\n",
        "        self.Height=len(x_list).bit_length()+1\n",
        "        self.Tree=[init]*(2**self.Height)\n",
        "        self.num=2**(self.Height-1)\n",
        "        for i in range(len(x_list)):\n",
        "            self.Tree[2**(self.Height-1)+i]=x_list[i]\n",
        "        for i in range(2**(self.Height-1)-1,0,-1):\n",
        "            self.Tree[i]=segfunc(self.Tree[2*i],self.Tree[2*i+1])\n",
        "\n",
        "    def select(self,k):\n",
        "        return self.Tree[k+self.num]\n",
        "\n",
        "    def update(self,k,x):\n",
        "        i=k+self.num\n",
        "        self.Tree[i]=x\n",
        "        while i>1:\n",
        "            if i%2==0:\n",
        "                self.Tree[i//2]=self.segfunc(self.Tree[i],self.Tree[i+1])\n",
        "            else:\n",
        "                self.Tree[i//2]=self.segfunc(self.Tree[i-1],self.Tree[i])\n",
        "            i//=2\n",
        "\n",
        "    def query(self,l,r):\n",
        "        result=self.init\n",
        "        l+=self.num\n",
        "        r+=self.num+1\n",
        "\n",
        "        while l<r:\n",
        "            if l%2==1:\n",
        "                result=self.segfunc(result,self.Tree[l])\n",
        "                l+=1\n",
        "            if r%2==1:\n",
        "                result=self.segfunc(result,self.Tree[r-1])\n",
        "            l//=2\n",
        "            r//=2\n",
        "        return result"
      ]
    },
    {
      "cell_type": "code",
      "execution_count": null,
      "metadata": {
        "id": "I8o9PY82tRhi"
      },
      "outputs": [],
      "source": [
        "#遅延セグメントツリー2種類\n",
        "#区間加算\n",
        "#####segfunc#####\n",
        "def segfunc(x, y):\n",
        "    return min(x, y)\n",
        "#################\n",
        "\n",
        "#####単位元#####\n",
        "ide_ele = 2**31 - 1\n",
        "#################\n",
        "\n",
        "class LazySegmentTree:\n",
        "    \"\"\"\n",
        "    init(init_val, ide_ele): 配列init_valで初期化 O(N)\n",
        "    add(l, r, x): 区間[l, r)にxを加算 O(logN)\n",
        "    query(l, r): 区間[l, r)をsegfuncしたものを返す O(logN)\n",
        "    \"\"\"\n",
        "    def __init__(self, init_val, segfunc, ide_ele):\n",
        "        \"\"\"\n",
        "        init_val: 配列の初期値\n",
        "        segfunc: 区間にしたい操作\n",
        "        ide_ele: 単位元\n",
        "        num: n以上の最小の2のべき乗\n",
        "        data: 値配列(1-index)\n",
        "        lazy: 遅延配列(1-index)\n",
        "        \"\"\"\n",
        "        n = len(init_val)\n",
        "        self.segfunc = segfunc\n",
        "        self.ide_ele = ide_ele\n",
        "        self.num = 1 << (n - 1).bit_length()\n",
        "        self.data = [ide_ele] * 2 * self.num\n",
        "        self.lazy = [0] * 2 * self.num\n",
        "        # 配列の値を葉にセット\n",
        "        for i in range(n):\n",
        "            self.data[self.num + i] = init_val[i]\n",
        "        # 構築していく\n",
        "        for i in range(self.num - 1, 0, -1):\n",
        "            self.data[i] = self.segfunc(self.data[2 * i], self.data[2 * i + 1])\n",
        "\n",
        "    def gindex(self, l, r):\n",
        "            \"\"\"\n",
        "            伝搬する対象の区間を求める\n",
        "            lm: 伝搬する必要のある最大の左閉区間\n",
        "            rm: 伝搬する必要のある最大の右開区間\n",
        "            \"\"\"\n",
        "            l += self.num\n",
        "            r += self.num\n",
        "            lm = l >> (l & -l).bit_length()\n",
        "            rm = r >> (r & -r).bit_length()\n",
        "\n",
        "            while r > l:\n",
        "                if l <= lm:\n",
        "                    yield l\n",
        "                if r <= rm:\n",
        "                    yield r\n",
        "                r >>= 1\n",
        "                l >>= 1\n",
        "            while l:\n",
        "                yield l\n",
        "                l >>= 1\n",
        "\n",
        "    def propagates(self, *ids):\n",
        "        \"\"\"\n",
        "        遅延伝搬処理\n",
        "        ids: 伝搬する対象の区間 \n",
        "        \"\"\"\n",
        "        for i in reversed(ids):\n",
        "            v = self.lazy[i]\n",
        "            if not v:\n",
        "                continue\n",
        "            self.lazy[2 * i] += v\n",
        "            self.lazy[2 * i + 1] += v\n",
        "            self.data[2 * i] += v\n",
        "            self.data[2 * i + 1] += v\n",
        "            self.lazy[i] = 0\n",
        "\n",
        "    def add(self, l, r, x):\n",
        "        \"\"\"\n",
        "        区間[l, r)の値にxを加算\n",
        "        l, r: index(0-index)\n",
        "        x: additional value\n",
        "        \"\"\"\n",
        "        *ids, = self.gindex(l, r)\n",
        "        l += self.num\n",
        "        r += self.num\n",
        "        while l < r:\n",
        "            if l & 1:\n",
        "                self.lazy[l] += x\n",
        "                self.data[l] += x\n",
        "                l += 1\n",
        "            if r & 1:\n",
        "                self.lazy[r - 1] += x\n",
        "                self.data[r - 1] += x\n",
        "            r >>= 1\n",
        "            l >>= 1\n",
        "        for i in ids:\n",
        "            self.data[i] = self.segfunc(self.data[2 * i], self.data[2 * i + 1]) + self.lazy[i]\n",
        "\n",
        "\n",
        "    def query(self, l, r):\n",
        "        \"\"\"\n",
        "        [l, r)のsegfuncしたものを得る\n",
        "        l: index(0-index)\n",
        "        r: index(0-index)\n",
        "        \"\"\"\n",
        "        *ids, = self.gindex(l, r)\n",
        "        self.propagates(*ids)\n",
        "\n",
        "        res = self.ide_ele\n",
        "\n",
        "        l += self.num\n",
        "        r += self.num\n",
        "        while l < r:\n",
        "            if l & 1:\n",
        "                res = self.segfunc(res, self.data[l])\n",
        "                l += 1\n",
        "            if r & 1:\n",
        "                res = self.segfunc(res, self.data[r - 1])\n",
        "            l >>= 1\n",
        "            r >>= 1\n",
        "        return res"
      ]
    },
    {
      "cell_type": "code",
      "execution_count": null,
      "metadata": {
        "id": "9dvU8xMrtZej"
      },
      "outputs": [],
      "source": [
        "#####segfunc#####\n",
        "def segfunc(x, y):\n",
        "    return min(x, y)\n",
        "#################\n",
        "\n",
        "#####ide_ele#####\n",
        "ide_ele = 2**31 - 1\n",
        "#################\n",
        "\n",
        "class LazySegmentTree:\n",
        "    \"\"\"\n",
        "    init(init_val, ide_ele): 配列init_valで初期化 O(N)\n",
        "    update(l, r, x): 区間[l, r)をxに更新 O(logN)\n",
        "    query(l, r): 区間[l, r)をsegfuncしたものを返す O(logN)\n",
        "    \"\"\"\n",
        "    def __init__(self, init_val, segfunc, ide_ele):\n",
        "        \"\"\"\n",
        "        init_val: 配列の初期値\n",
        "        segfunc: 区間にしたい操作\n",
        "        ide_ele: 単位元\n",
        "        num: n以上の最小の2のべき乗\n",
        "        data: 値配列(1-index)\n",
        "        lazy: 遅延配列(1-index)\n",
        "        \"\"\"\n",
        "        n = len(init_val)\n",
        "        self.segfunc = segfunc\n",
        "        self.ide_ele = ide_ele\n",
        "        self.num = 1 << (n - 1).bit_length()\n",
        "        self.data = [ide_ele] * 2 * self.num\n",
        "        self.lazy = [None] * 2 * self.num\n",
        "        # 配列の値を葉にセット\n",
        "        for i in range(n):\n",
        "            self.data[self.num + i] = init_val[i]\n",
        "        # 構築していく\n",
        "        for i in range(self.num - 1, 0, -1):\n",
        "            self.data[i] = self.segfunc(self.data[2 * i], self.data[2 * i + 1])\n",
        "\n",
        "    def gindex(self, l, r):\n",
        "            \"\"\"\n",
        "            伝搬する対象の区間を求める\n",
        "            lm: 伝搬する必要のある最大の左閉区間\n",
        "            rm: 伝搬する必要のある最大の右開区間\n",
        "            \"\"\"\n",
        "            l += self.num\n",
        "            r += self.num\n",
        "            lm = l >> (l & -l).bit_length()\n",
        "            rm = r >> (r & -r).bit_length()\n",
        "\n",
        "            while r > l:\n",
        "                if l <= lm:\n",
        "                    yield l\n",
        "                if r <= rm:\n",
        "                    yield r\n",
        "                r >>= 1\n",
        "                l >>= 1\n",
        "            while l:\n",
        "                yield l\n",
        "                l >>= 1\n",
        "\n",
        "    def propagates(self, *ids):\n",
        "        \"\"\"\n",
        "        遅延伝搬処理\n",
        "        ids: 伝搬する対象の区間 \n",
        "        \"\"\"\n",
        "        for i in reversed(ids):\n",
        "            v = self.lazy[i]\n",
        "            if v is None:\n",
        "                continue\n",
        "            self.lazy[2 * i] = v\n",
        "            self.lazy[2 * i + 1] = v\n",
        "            self.data[2 * i] = v\n",
        "            self.data[2 * i + 1] = v\n",
        "            self.lazy[i] = None\n",
        "\n",
        "    def update(self, l, r, x):\n",
        "        \"\"\"\n",
        "        区間[l, r)の値をxに更新\n",
        "        l, r: index(0-index)\n",
        "        x: update value\n",
        "        \"\"\"\n",
        "        *ids, = self.gindex(l, r)\n",
        "        self.propagates(*ids)\n",
        "        l += self.num\n",
        "        r += self.num\n",
        "        while l < r:\n",
        "            if l & 1:\n",
        "                self.lazy[l] = x\n",
        "                self.data[l] = x\n",
        "                l += 1\n",
        "            if r & 1:\n",
        "                self.lazy[r - 1] = x\n",
        "                self.data[r - 1] = x\n",
        "            r >>= 1\n",
        "            l >>= 1\n",
        "        for i in ids:\n",
        "            self.data[i] = self.segfunc(self.data[2 * i], self.data[2 * i + 1])\n",
        "\n",
        "\n",
        "    def query(self, l, r):\n",
        "        \"\"\"\n",
        "        [l, r)のsegfuncしたものを得る\n",
        "        l: index(0-index)\n",
        "        r: index(0-index)\n",
        "        \"\"\"\n",
        "        *ids, = self.gindex(l, r)\n",
        "        self.propagates(*ids)\n",
        "\n",
        "        res = self.ide_ele\n",
        "\n",
        "        l += self.num\n",
        "        r += self.num\n",
        "        while l < r:\n",
        "            if l & 1:\n",
        "                res = self.segfunc(res, self.data[l])\n",
        "                l += 1\n",
        "            if r & 1:\n",
        "                res = self.segfunc(res, self.data[r - 1])\n",
        "            l >>= 1\n",
        "            r >>= 1\n",
        "        return res"
      ]
    },
    {
      "cell_type": "markdown",
      "metadata": {
        "id": "c_ZWaTAJtjZx"
      },
      "source": [
        "### ハッシュ"
      ]
    },
    {
      "cell_type": "markdown",
      "metadata": {
        "id": "PCyA5Hurtlxm"
      },
      "source": [
        "- 文字列などのデータを整数値に対応づける\n",
        "- ある状態や数列を一意なハッシュ値に変換することで、うまく判定や数え上げを行うことができる可能性がある\n",
        "- Zobrist Hashは状態をハッシュ値にするのが得意(部分集合的な表現が得意)"
      ]
    },
    {
      "cell_type": "code",
      "execution_count": null,
      "metadata": {
        "id": "eb9m8OVyu6WJ"
      },
      "outputs": [],
      "source": [
        "#数列のハッシュ化(数列を受け取ってハッシュ化したものに置き換える)\n",
        "def hs():\n",
        "    P = 8128812800000059\n",
        "    L = [0]\n",
        "    S = set()\n",
        "    A = [int(a) for a in input().split()]\n",
        "    s = 0\n",
        "    for i, a in enumerate(A):\n",
        "        if a not in S:\n",
        "            S.add(a)\n",
        "            s = (s + a * (a + 1346) * (a + 9185)) % P\n",
        "        L.append(s)\n",
        "    return L"
      ]
    },
    {
      "cell_type": "markdown",
      "metadata": {
        "id": "P19N_VUb3bPg"
      },
      "source": [
        "### SortedMultiset"
      ]
    },
    {
      "cell_type": "markdown",
      "metadata": {
        "id": "CzJCoQZt3n7a"
      },
      "source": [
        "- 集合をソートされた状態を保ったまま要素をO(logN)で追加削除\n",
        "\n",
        "- 下からx番目、上から~x番目:s[x] (計算量(O(√N)))\n",
        "- 最大値、最小値を取り出したいときは\n",
        " 最小値:s[0] 最大値:s[len(s)-1]\n",
        "- xの個数 s.count(x)"
      ]
    },
    {
      "cell_type": "code",
      "execution_count": null,
      "metadata": {
        "id": "YL4uHgbo3oPL"
      },
      "outputs": [],
      "source": [
        "import math\n",
        "from bisect import bisect_left, bisect_right, insort\n",
        "from typing import Generic, Iterable, Iterator, TypeVar, Union, List\n",
        "T = TypeVar('T')\n",
        "class SortedMultiset(Generic[T]):\n",
        "    BUCKET_RATIO = 50\n",
        "    REBUILD_RATIO = 170\n",
        "\n",
        "    def _build(self, a=None) -> None:\n",
        "        \"Evenly divide `a` into buckets.\"\n",
        "        if a is None: a = list(self)\n",
        "        size = self.size = len(a)\n",
        "        bucket_size = int(math.ceil(math.sqrt(size / self.BUCKET_RATIO)))\n",
        "        self.a = [a[size * i // bucket_size : size * (i + 1) // bucket_size] for i in range(bucket_size)]\n",
        "    \n",
        "    def __init__(self, a: Iterable[T] = []) -> None:\n",
        "        \"Make a new SortedMultiset from iterable. / O(N) if sorted / O(N log N)\"\n",
        "        a = list(a)\n",
        "        if not all(a[i] <= a[i + 1] for i in range(len(a) - 1)):\n",
        "            a = sorted(a)\n",
        "        self._build(a)\n",
        "\n",
        "    def __iter__(self) -> Iterator[T]:\n",
        "        for i in self.a:\n",
        "            for j in i: yield j\n",
        " \n",
        "    def __reversed__(self) -> Iterator[T]:\n",
        "        for i in reversed(self.a):\n",
        "            for j in reversed(i): yield j\n",
        "    \n",
        "    def __len__(self) -> int:\n",
        "        return self.size\n",
        "    \n",
        "    def __repr__(self) -> str:\n",
        "        return \"SortedMultiset\" + str(self.a)\n",
        "    \n",
        "    def __str__(self) -> str:\n",
        "        s = str(list(self))\n",
        "        return \"{\" + s[1 : len(s) - 1] + \"}\"\n",
        "\n",
        "    def _find_bucket(self, x: T) -> List[T]:\n",
        "        \"Find the bucket which should contain x. self must not be empty.\"\n",
        "        for a in self.a:\n",
        "            if x <= a[-1]: return a\n",
        "        return a\n",
        "\n",
        "    def __contains__(self, x: T) -> bool:\n",
        "        if self.size == 0: return False\n",
        "        a = self._find_bucket(x)\n",
        "        i = bisect_left(a, x)\n",
        "        return i != len(a) and a[i] == x\n",
        "\n",
        "    def count(self, x: T) -> int:\n",
        "        \"Count the number of x.\"\n",
        "        return self.index_right(x) - self.index(x)\n",
        "\n",
        "    def add(self, x: T) -> None:\n",
        "        \"Add an element. / O(√N)\"\n",
        "        if self.size == 0:\n",
        "            self.a = [[x]]\n",
        "            self.size = 1\n",
        "            return\n",
        "        a = self._find_bucket(x)\n",
        "        insort(a, x)\n",
        "        self.size += 1\n",
        "        if len(a) > len(self.a) * self.REBUILD_RATIO:\n",
        "            self._build()\n",
        " \n",
        "    def discard(self, x: T) -> bool:\n",
        "        \"Remove an element and return True if removed. / O(√N)\"\n",
        "        if self.size == 0: return False\n",
        "        a = self._find_bucket(x)\n",
        "        i = bisect_left(a, x)\n",
        "        if i == len(a) or a[i] != x: return False\n",
        "        a.pop(i)\n",
        "        self.size -= 1\n",
        "        if len(a) == 0: self._build()\n",
        "        return True\n",
        "\n",
        "    def lt(self, x: T) -> Union[T, None]:\n",
        "        \"Find the largest element < x, or None if it doesn't exist.\"\n",
        "        for a in reversed(self.a):\n",
        "            if a[0] < x:\n",
        "                return a[bisect_left(a, x) - 1]\n",
        "\n",
        "    def le(self, x: T) -> Union[T, None]:\n",
        "        \"Find the largest element <= x, or None if it doesn't exist.\"\n",
        "        for a in reversed(self.a):\n",
        "            if a[0] <= x:\n",
        "                return a[bisect_right(a, x) - 1]\n",
        "\n",
        "    def gt(self, x: T) -> Union[T, None]:\n",
        "        \"Find the smallest element > x, or None if it doesn't exist.\"\n",
        "        for a in self.a:\n",
        "            if a[-1] > x:\n",
        "                return a[bisect_right(a, x)]\n",
        "\n",
        "    def ge(self, x: T) -> Union[T, None]:\n",
        "        \"Find the smallest element >= x, or None if it doesn't exist.\"\n",
        "        for a in self.a:\n",
        "            if a[-1] >= x:\n",
        "                return a[bisect_left(a, x)]\n",
        "    \n",
        "    def __getitem__(self, x: int) -> T:\n",
        "        \"Return the x-th element, or IndexError if it doesn't exist.\"\n",
        "        if x < 0: x += self.size\n",
        "        if x < 0: raise IndexError\n",
        "        for a in self.a:\n",
        "            if x < len(a): return a[x]\n",
        "            x -= len(a)\n",
        "        raise IndexError\n",
        "\n",
        "    def index(self, x: T) -> int:\n",
        "        \"Count the number of elements < x.\"\n",
        "        ans = 0\n",
        "        for a in self.a:\n",
        "            if a[-1] >= x:\n",
        "                return ans + bisect_left(a, x)\n",
        "            ans += len(a)\n",
        "        return ans\n",
        "\n",
        "    def index_right(self, x: T) -> int:\n",
        "        \"Count the number of elements <= x.\"\n",
        "        ans = 0\n",
        "        for a in self.a:\n",
        "            if a[-1] > x:\n",
        "                return ans + bisect_right(a, x)\n",
        "            ans += len(a)\n",
        "        return ans"
      ]
    },
    {
      "cell_type": "markdown",
      "metadata": {
        "id": "__Yboeqk6uG5"
      },
      "source": [
        "### 数学問題"
      ]
    },
    {
      "cell_type": "markdown",
      "metadata": {
        "id": "-FjQrrwN6wSv"
      },
      "source": [
        "### "
      ]
    },
    {
      "cell_type": "markdown",
      "metadata": {
        "id": "vhtUA3Y9AMwq"
      },
      "source": [
        "## 典型TIPS"
      ]
    },
    {
      "cell_type": "markdown",
      "metadata": {
        "id": "cbiwIYWegcfw"
      },
      "source": [
        "1. 反転はflagで管理する\n",
        "2. 後ろから見る\n",
        "3. データを2本で管理する\n",
        "4. 償却解析(クエリ全体での計算量を解析)\n",
        "5. 余事象を考える\n",
        "6. クエリ先読み\n",
        "7. マージテク\n",
        "8. 数列圧縮(データを(要素,要素の個数)で管理する)\n"
      ]
    },
    {
      "cell_type": "code",
      "execution_count": null,
      "metadata": {
        "id": "HqrqU_xp_ZPb"
      },
      "outputs": [],
      "source": []
    },
    {
      "cell_type": "markdown",
      "metadata": {
        "id": "TIHZgDHEjLNH"
      },
      "source": [
        "## ミスまとめ"
      ]
    },
    {
      "cell_type": "markdown",
      "metadata": {
        "id": "dAT1YBF7jONk"
      },
      "source": [
        "- 入力を受け取る時に、複数行データをinput().split()で受け取る時に数値データを\n",
        "文字型から数値型へ直すのを忘れないようにする\n",
        "\n",
        "- 計算量の勘違い\n",
        "```\n",
        "for i in range(1,N)[::-1]:\n",
        "    for v in G[i]:\n",
        "```\n",
        "→これのオーダーはO(N^2)じゃないよ!むしろO(N)寄り!\n",
        "\n",
        "- 制約を見落とし本当によくやりがち!!!\n",
        "- 毎回長い配列を作るのは計算量がかかってしまうので良くない\n",
        "- 条件分岐漏れ"
      ]
    }
  ],
  "metadata": {
    "colab": {
      "provenance": []
    },
    "kernelspec": {
      "display_name": "Python 3.8.2 64-bit",
      "language": "python",
      "name": "python3"
    },
    "language_info": {
      "name": "python",
      "version": "3.8.2"
    },
    "vscode": {
      "interpreter": {
        "hash": "949777d72b0d2535278d3dc13498b2535136f6dfe0678499012e853ee9abcab1"
      }
    }
  },
  "nbformat": 4,
  "nbformat_minor": 0
}
